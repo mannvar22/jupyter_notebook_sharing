{
 "cells": [
  {
   "cell_type": "markdown",
   "id": "d2f90646-ea90-4a9f-8d75-a038f6180e56",
   "metadata": {},
   "source": [
    "## Data Science Tools and Ecosystem"
   ]
  },
  {
   "cell_type": "markdown",
   "id": "b6aa9498-cfc8-4d72-8465-891cc6b02660",
   "metadata": {},
   "source": [
    "In this notebook, Data Science Tools and Ecosystem are summarized."
   ]
  },
  {
   "cell_type": "markdown",
   "id": "5bff9322-a5f7-4617-8053-d6ae992e82d3",
   "metadata": {},
   "source": [
    "**Objectives:**\n",
    "- Exploratory Data Analysis: Jupyter Notebooks are excellent for exploring datasets, visualizing data distributions, and identifying patterns and anomalies.\n",
    "- Interactive Learning and Teaching: The combination of code, text, and visualizations makes Jupyter Notebooks effective tools for teaching programming, data science, and other technical subjects.\n",
    "- Documentation and Sharing: Notebooks can be used to create rich, interactive documents that combine code, text, and visualizations, making it easier to share knowledge and insights with others.\n",
    "  "
   ]
  },
  {
   "cell_type": "markdown",
   "id": "7756ec34-fda9-4ef5-a74c-1b8f7a3f1430",
   "metadata": {},
   "source": [
    "Some of the popular languages that Data Scientists use are:\n",
    "1. R language\n",
    "2. Python\n",
    "3. SQL"
   ]
  },
  {
   "cell_type": "markdown",
   "id": "acccbd60-0c3a-46c2-aeca-bf9033f1a2b3",
   "metadata": {},
   "source": [
    "Some of the commonly used libraries used by Data Scientists include:\n",
    "1. NumPy\n",
    "2. Pandas\n",
    "3. Matplotlib\n",
    "4. Seaborn\n",
    "5. Scikit-learn"
   ]
  },
  {
   "cell_type": "markdown",
   "id": "5a034c0f-cd09-41cc-98e9-bddb89ab42ec",
   "metadata": {},
   "source": [
    "| Data Science Tools        | \n",
    "|:------------------------- |          \n",
    "| Jupyter Notebook          | \n",
    "| RStudio                   | \n",
    "| VS Code (with extensions) | "
   ]
  },
  {
   "cell_type": "markdown",
   "id": "8a9429bb-0113-4b92-90d7-e7cb74ec64aa",
   "metadata": {},
   "source": [
    "### Below are a few examples of evaluating arithmetic expressions in Python"
   ]
  },
  {
   "cell_type": "code",
   "execution_count": 15,
   "id": "38db6272-aa01-4b24-a9bf-cac4ed437e92",
   "metadata": {},
   "outputs": [],
   "source": [
    "#This a simple arithmetic expression to multiply then add integers"
   ]
  },
  {
   "cell_type": "code",
   "execution_count": 16,
   "id": "0ff50a13-2498-4cf3-afb1-9fba9414e4d1",
   "metadata": {},
   "outputs": [
    {
     "data": {
      "text/plain": [
       "17"
      ]
     },
     "execution_count": 16,
     "metadata": {},
     "output_type": "execute_result"
    }
   ],
   "source": [
    "(3*4)+5 "
   ]
  },
  {
   "cell_type": "code",
   "execution_count": 11,
   "id": "57d5cbef-dde5-4177-8899-bb986a2d96c6",
   "metadata": {},
   "outputs": [],
   "source": [
    "# This will convert 200 minutes to hours by diving by 60"
   ]
  },
  {
   "cell_type": "code",
   "execution_count": 12,
   "id": "432ba393-219e-468c-90bb-8e42e5d7a51d",
   "metadata": {},
   "outputs": [
    {
     "data": {
      "text/plain": [
       "3.3333333333333335"
      ]
     },
     "execution_count": 12,
     "metadata": {},
     "output_type": "execute_result"
    }
   ],
   "source": [
    "200/60"
   ]
  },
  {
   "cell_type": "markdown",
   "id": "9c62faea-40cc-48be-a5e3-9284afb27a29",
   "metadata": {},
   "source": [
    "## Author ##\n",
    "Mannvar Ali"
   ]
  }
 ],
 "metadata": {
  "kernelspec": {
   "display_name": "Python 3 (ipykernel)",
   "language": "python",
   "name": "python3"
  },
  "language_info": {
   "codemirror_mode": {
    "name": "ipython",
    "version": 3
   },
   "file_extension": ".py",
   "mimetype": "text/x-python",
   "name": "python",
   "nbconvert_exporter": "python",
   "pygments_lexer": "ipython3",
   "version": "3.12.8"
  }
 },
 "nbformat": 4,
 "nbformat_minor": 5
}
